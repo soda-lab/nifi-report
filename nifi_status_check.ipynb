{
 "cells": [
  {
   "cell_type": "code",
   "execution_count": 1,
   "metadata": {},
   "outputs": [],
   "source": [
    "#! pip install nipyapi\n",
    "import nipyapi\n",
    "\n",
    "import pymongo\n",
    "from pymongo import MongoClient\n",
    "import configparser \n",
    "import warnings\n",
    "warnings.filterwarnings(\"ignore\", category=DeprecationWarning)\n",
    "\n",
    "# set folder name in config.ini\n",
    "config = configparser.ConfigParser()\n",
    "config.read('config.ini')\n",
    "ip = config['DEFAULT']['IP']\n",
    "port = config['DEFAULT']['NIFI-Port']\n",
    "twitter_id = config['DEFAULT']['Twitter-ID']\n",
    "reddit_id = config['DEFAULT']['Reddit-ID']"
   ]
  },
  {
   "cell_type": "code",
   "execution_count": 2,
   "metadata": {},
   "outputs": [],
   "source": [
    "host = \"http://\"+str(ip)+\":\"+str(port)+\"/nifi-api\"\n",
    "nipyapi.config.nifi_config.host = host\n",
    "\n",
    "#from nipyapi.demo.console import *\n",
    "#print (nipyapi.system.get_system_diagnostics())"
   ]
  },
  {
   "cell_type": "code",
   "execution_count": null,
   "metadata": {},
   "outputs": [],
   "source": [
    "nipyapi.canvas.get_root_pg_id()"
   ]
  },
  {
   "cell_type": "code",
   "execution_count": null,
   "metadata": {},
   "outputs": [],
   "source": [
    "nipyapi.canvas.get_process_group_status(pg_id=twitter_id,detail=\"all\")"
   ]
  },
  {
   "cell_type": "code",
   "execution_count": null,
   "metadata": {},
   "outputs": [],
   "source": [
    "nipyapi.canvas.get_process_group_status(pg_id=reddit_id,detail=\"all\")"
   ]
  },
  {
   "cell_type": "code",
   "execution_count": null,
   "metadata": {},
   "outputs": [],
   "source": []
  }
 ],
 "metadata": {
  "kernelspec": {
   "display_name": "Python 3",
   "language": "python",
   "name": "python3"
  },
  "language_info": {
   "codemirror_mode": {
    "name": "ipython",
    "version": 3
   },
   "file_extension": ".py",
   "mimetype": "text/x-python",
   "name": "python",
   "nbconvert_exporter": "python",
   "pygments_lexer": "ipython3",
   "version": "3.6.4"
  }
 },
 "nbformat": 4,
 "nbformat_minor": 2
}
